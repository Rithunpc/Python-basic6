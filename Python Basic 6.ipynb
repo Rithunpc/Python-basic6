{
 "cells": [
  {
   "cell_type": "markdown",
   "id": "fa7095dc",
   "metadata": {},
   "source": [
    "Sets"
   ]
  },
  {
   "cell_type": "markdown",
   "id": "c9aae535",
   "metadata": {},
   "source": [
    "A set is a cillection which is unordered\n",
    "To declare a set in python we use the curly brackets."
   ]
  },
  {
   "cell_type": "code",
   "execution_count": null,
   "id": "66e9b82c",
   "metadata": {},
   "outputs": [],
   "source": []
  },
  {
   "cell_type": "code",
   "execution_count": 6,
   "id": "1cfc6433",
   "metadata": {},
   "outputs": [
    {
     "name": "stdout",
     "output_type": "stream",
     "text": [
      "50\n",
      "20\n",
      "40\n",
      "10\n",
      "30\n"
     ]
    }
   ],
   "source": [
    "set={10,20,10,10,20,40,30,50,30}\n",
    "#will get all the values..\n",
    "for x in set: \n",
    "\n",
    "\n",
    "    print(x)"
   ]
  },
  {
   "cell_type": "code",
   "execution_count": 8,
   "id": "b5c0d438",
   "metadata": {},
   "outputs": [
    {
     "data": {
      "text/plain": [
       "True"
      ]
     },
     "execution_count": 8,
     "metadata": {},
     "output_type": "execute_result"
    }
   ],
   "source": [
    "20 in set\n",
    "    #will return true if the value is in the set"
   ]
  },
  {
   "cell_type": "code",
   "execution_count": 9,
   "id": "6e52c55f",
   "metadata": {},
   "outputs": [
    {
     "data": {
      "text/plain": [
       "False"
      ]
     },
     "execution_count": 9,
     "metadata": {},
     "output_type": "execute_result"
    }
   ],
   "source": [
    "100 in set"
   ]
  },
  {
   "cell_type": "code",
   "execution_count": 10,
   "id": "0a634327",
   "metadata": {},
   "outputs": [
    {
     "data": {
      "text/plain": [
       "{10, 20, 30, 40, 50, 'pekky'}"
      ]
     },
     "execution_count": 10,
     "metadata": {},
     "output_type": "execute_result"
    }
   ],
   "source": [
    "set.add('pekky')\n",
    "set\n",
    "#add a value in a set "
   ]
  },
  {
   "cell_type": "code",
   "execution_count": null,
   "id": "398d6f25",
   "metadata": {},
   "outputs": [],
   "source": []
  },
  {
   "cell_type": "code",
   "execution_count": 11,
   "id": "013d2f5a",
   "metadata": {},
   "outputs": [
    {
     "data": {
      "text/plain": [
       "{10, 100, 20, 30, 40, 50, 'pekky'}"
      ]
     },
     "execution_count": 11,
     "metadata": {},
     "output_type": "execute_result"
    }
   ],
   "source": [
    "set.add(100)\n",
    "set"
   ]
  },
  {
   "cell_type": "code",
   "execution_count": 12,
   "id": "b50d285c",
   "metadata": {},
   "outputs": [
    {
     "data": {
      "text/plain": [
       "True"
      ]
     },
     "execution_count": 12,
     "metadata": {},
     "output_type": "execute_result"
    }
   ],
   "source": [
    "100 in set"
   ]
  },
  {
   "cell_type": "code",
   "execution_count": 13,
   "id": "cf41a1eb",
   "metadata": {},
   "outputs": [
    {
     "data": {
      "text/plain": [
       "{10, 20, 30, 40, 50, 100}"
      ]
     },
     "execution_count": 13,
     "metadata": {},
     "output_type": "execute_result"
    }
   ],
   "source": [
    "#to remove an item from a set\n",
    "set.remove('pekky')\n",
    "set"
   ]
  },
  {
   "cell_type": "code",
   "execution_count": 14,
   "id": "5ccd515f",
   "metadata": {},
   "outputs": [
    {
     "data": {
      "text/plain": [
       "{10, 20, 30, 40, 50}"
      ]
     },
     "execution_count": 14,
     "metadata": {},
     "output_type": "execute_result"
    }
   ],
   "source": [
    "set.remove(100)\n",
    "set"
   ]
  },
  {
   "cell_type": "code",
   "execution_count": 15,
   "id": "7c36b824",
   "metadata": {},
   "outputs": [
    {
     "data": {
      "text/plain": [
       "False"
      ]
     },
     "execution_count": 15,
     "metadata": {},
     "output_type": "execute_result"
    }
   ],
   "source": [
    "set1={5,10,20}\n",
    "set2={10,20,30}\n",
    "set1.issubset(set2) #doubt????"
   ]
  },
  {
   "cell_type": "code",
   "execution_count": 16,
   "id": "b055bddc",
   "metadata": {},
   "outputs": [
    {
     "data": {
      "text/plain": [
       "True"
      ]
     },
     "execution_count": 16,
     "metadata": {},
     "output_type": "execute_result"
    }
   ],
   "source": [
    "#to check subject or not \n",
    "set1={10,20}\n",
    "set2={10,20,30}\n",
    "set1.issubset(set2)# diubt??"
   ]
  },
  {
   "cell_type": "code",
   "execution_count": null,
   "id": "137fad93",
   "metadata": {},
   "outputs": [],
   "source": []
  },
  {
   "cell_type": "code",
   "execution_count": 17,
   "id": "b254b4d8",
   "metadata": {},
   "outputs": [
    {
     "data": {
      "text/plain": [
       "{10, 20, 30}"
      ]
     },
     "execution_count": 17,
     "metadata": {},
     "output_type": "execute_result"
    }
   ],
   "source": [
    "#this will return a set with the union of the sets.\n",
    "set1.union(set2) #doubt???"
   ]
  },
  {
   "cell_type": "code",
   "execution_count": 19,
   "id": "96649e4f",
   "metadata": {},
   "outputs": [
    {
     "data": {
      "text/plain": [
       "{1, 2, 3, 4}"
      ]
     },
     "execution_count": 19,
     "metadata": {},
     "output_type": "execute_result"
    }
   ],
   "source": [
    "set1={4,2,3}\n",
    "set2={4,3,1}\n",
    "\n",
    "set1.union(set2)"
   ]
  },
  {
   "cell_type": "code",
   "execution_count": null,
   "id": "1c6666d9",
   "metadata": {},
   "outputs": [],
   "source": []
  }
 ],
 "metadata": {
  "kernelspec": {
   "display_name": "Python 3 (ipykernel)",
   "language": "python",
   "name": "python3"
  },
  "language_info": {
   "codemirror_mode": {
    "name": "ipython",
    "version": 3
   },
   "file_extension": ".py",
   "mimetype": "text/x-python",
   "name": "python",
   "nbconvert_exporter": "python",
   "pygments_lexer": "ipython3",
   "version": "3.10.9"
  }
 },
 "nbformat": 4,
 "nbformat_minor": 5
}
